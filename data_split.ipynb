{
 "cells": [
  {
   "cell_type": "code",
   "execution_count": null,
   "id": "9a7f5618",
   "metadata": {},
   "outputs": [],
   "source": [
    "import os\n",
    "import shutil\n",
    "from sklearn.model_selection import train_test_split"
   ]
  },
  {
   "cell_type": "code",
   "execution_count": 20,
   "id": "a5cc7f65",
   "metadata": {},
   "outputs": [],
   "source": [
    "images_dir = r'C:/Users/user/Desktop/test/ultralytics-cpu/ultralytics/data/dataset'\n",
    "labels_dir = r'C:/Users/user/Desktop/test/ultralytics-cpu/ultralytics/data/dataset'"
   ]
  },
  {
   "cell_type": "code",
   "execution_count": 21,
   "id": "b190e7d6",
   "metadata": {},
   "outputs": [],
   "source": [
    "output_images = r'C:/Users/user/Desktop/test/ultralytics-cpu/ultralytics/data/dataset/images'\n",
    "output_labels = r'C:/Users/user/Desktop/test/ultralytics-cpu/ultralytics/data/dataset/labels'"
   ]
  },
  {
   "cell_type": "code",
   "execution_count": 22,
   "id": "786f32fb",
   "metadata": {},
   "outputs": [],
   "source": [
    "splits = ['train', 'val', 'test']\n",
    "for split in splits:\n",
    "    os.makedirs(os.path.join(output_images, split), exist_ok=True)\n",
    "    os.makedirs(os.path.join(output_labels, split), exist_ok=True)"
   ]
  },
  {
   "cell_type": "code",
   "execution_count": 23,
   "id": "50377f75",
   "metadata": {},
   "outputs": [
    {
     "name": "stdout",
     "output_type": "stream",
     "text": [
      "✅ Dataset split into train, val, and test successfully!\n"
     ]
    }
   ],
   "source": [
    "images = [f for f in os.listdir(images_dir) if f.endswith(('.jpg', '.png'))]\n",
    "\n",
    "# Split the dataset\n",
    "train_imgs, temp_imgs = train_test_split(images, test_size=0.2, random_state=42)\n",
    "val_imgs, test_imgs = train_test_split(temp_imgs, test_size=0.5, random_state=42)\n",
    "\n",
    "# Copy files\n",
    "def copy_files(image_list, split):\n",
    "    for img in image_list:\n",
    "        img_path = os.path.join(images_dir, img)\n",
    "        label_name = os.path.splitext(img)[0] + '.txt'\n",
    "        label_path = os.path.join(labels_dir, label_name)\n",
    "\n",
    "        if os.path.exists(img_path) and os.path.exists(label_path):\n",
    "            shutil.copy(img_path, os.path.join(output_images, split, img))\n",
    "            shutil.copy(label_path, os.path.join(output_labels, split, label_name))\n",
    "        else:\n",
    "            print(f\"⚠️ Skipping {img} - Missing image or label.\")\n",
    "\n",
    "copy_files(train_imgs, 'train')\n",
    "copy_files(val_imgs, 'val')\n",
    "copy_files(test_imgs, 'test')\n",
    "\n",
    "print(\"✅ Dataset split into train, val, and test successfully!\")\n"
   ]
  },
  {
   "cell_type": "code",
   "execution_count": null,
   "id": "627f3f92",
   "metadata": {},
   "outputs": [],
   "source": [
    "!yolo detect train model=yolov8n.pt data=\"C:/Users/user/Desktop/test/ultralytics-cpu/ultralytics/data/dataset/data.yaml\" epochs=50 imgsz=640 batch=16"
   ]
  }
 ],
 "metadata": {
  "kernelspec": {
   "display_name": "flask-env",
   "language": "python",
   "name": "python3"
  },
  "language_info": {
   "codemirror_mode": {
    "name": "ipython",
    "version": 3
   },
   "file_extension": ".py",
   "mimetype": "text/x-python",
   "name": "python",
   "nbconvert_exporter": "python",
   "pygments_lexer": "ipython3",
   "version": "3.9.11"
  }
 },
 "nbformat": 4,
 "nbformat_minor": 5
}
